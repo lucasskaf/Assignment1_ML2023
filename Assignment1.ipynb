{
  "nbformat": 4,
  "nbformat_minor": 0,
  "metadata": {
    "colab": {
      "provenance": [],
      "authorship_tag": "ABX9TyN4pqvUGYpXJeDO7FHmoMs2",
      "include_colab_link": true
    },
    "kernelspec": {
      "name": "python3",
      "display_name": "Python 3"
    },
    "language_info": {
      "name": "python"
    }
  },
  "cells": [
    {
      "cell_type": "markdown",
      "metadata": {
        "id": "view-in-github",
        "colab_type": "text"
      },
      "source": [
        "<a href=\"https://colab.research.google.com/github/skaflucas/Assignment1_ML2023/blob/main/Assignment1.ipynb\" target=\"_parent\"><img src=\"https://colab.research.google.com/assets/colab-badge.svg\" alt=\"Open In Colab\"/></a>"
      ]
    },
    {
      "cell_type": "code",
      "source": [
        "!pip install pygal_maps_world"
      ],
      "metadata": {
        "colab": {
          "base_uri": "https://localhost:8080/"
        },
        "id": "WZRAYZeXrjAs",
        "outputId": "97882ce9-cf89-487d-a633-975ee8ed5c03"
      },
      "execution_count": null,
      "outputs": [
        {
          "output_type": "stream",
          "name": "stdout",
          "text": [
            "Looking in indexes: https://pypi.org/simple, https://us-python.pkg.dev/colab-wheels/public/simple/\n",
            "Collecting pygal_maps_world\n",
            "  Downloading pygal_maps_world-1.0.2.tar.gz (270 kB)\n",
            "\u001b[2K     \u001b[90m━━━━━━━━━━━━━━━━━━━━━━━━━━━━━━━━━━━━━━━\u001b[0m \u001b[32m270.8/270.8 KB\u001b[0m \u001b[31m3.9 MB/s\u001b[0m eta \u001b[36m0:00:00\u001b[0m\n",
            "\u001b[?25h  Preparing metadata (setup.py) ... \u001b[?25l\u001b[?25hdone\n",
            "Collecting pygal>=1.9.9\n",
            "  Downloading pygal-3.0.0-py2.py3-none-any.whl (129 kB)\n",
            "\u001b[2K     \u001b[90m━━━━━━━━━━━━━━━━━━━━━━━━━━━━━━━━━━━━━━━\u001b[0m \u001b[32m129.4/129.4 KB\u001b[0m \u001b[31m2.3 MB/s\u001b[0m eta \u001b[36m0:00:00\u001b[0m\n",
            "\u001b[?25hBuilding wheels for collected packages: pygal_maps_world\n",
            "  Building wheel for pygal_maps_world (setup.py) ... \u001b[?25l\u001b[?25hdone\n",
            "  Created wheel for pygal_maps_world: filename=pygal_maps_world-1.0.2-py3-none-any.whl size=278560 sha256=cf0d2433a2a521c7214de727467b0673e1d9b17962aa635443a743f341499e77\n",
            "  Stored in directory: /root/.cache/pip/wheels/da/f5/1b/a241a2b0e32fc89b08d1f42d37e63e7ccc2c820bb14fffd031\n",
            "Successfully built pygal_maps_world\n",
            "Installing collected packages: pygal, pygal_maps_world\n",
            "Successfully installed pygal-3.0.0 pygal_maps_world-1.0.2\n"
          ]
        }
      ]
    },
    {
      "cell_type": "code",
      "execution_count": null,
      "metadata": {
        "id": "ZEd0EktDcgih"
      },
      "outputs": [],
      "source": [
        "import pandas as pd\n",
        "\n",
        "import matplotlib as mpl\n",
        "import matplotlib.pyplot as plt\n",
        "\n",
        "import numpy as np\n",
        "import pygal\n",
        "import pygal_maps_world\n",
        "from pygal_maps_world.maps import World\n",
        "from pygal_maps_world.i18n import COUNTRIES\n",
        "\n",
        "from sklearn.preprocessing import LabelEncoder\n",
        "import seaborn as sns\n",
        "\n",
        "from sklearn.linear_model import LinearRegression\n",
        "from sklearn.model_selection import train_test_split\n",
        "from sklearn.preprocessing import PolynomialFeatures\n",
        "from sklearn.metrics import r2_score,mean_squared_error\n",
        "\n",
        "from sklearn.preprocessing import StandardScaler\n",
        "from sklearn import linear_model\n",
        "\n",
        "from sklearn.linear_model import LogisticRegression\n",
        "from sklearn.neighbors import KNeighborsClassifier\n",
        "from sklearn.svm import SVC\n",
        "from sklearn.naive_bayes import GaussianNB\n",
        "from sklearn.ensemble import RandomForestClassifier\n",
        "from sklearn.metrics import ConfusionMatrixDisplay, confusion_matrix, roc_curve, auc, classification_report"
      ]
    },
    {
      "cell_type": "code",
      "source": [
        "articleInfo = pd.read_csv('/content/articleInfo.csv')\n",
        "articleInfo"
      ],
      "metadata": {
        "colab": {
          "base_uri": "https://localhost:8080/",
          "height": 659
        },
        "id": "o3KSZOZNcjlk",
        "outputId": "9128f497-200e-432e-ed41-8ab069db663a"
      },
      "execution_count": null,
      "outputs": [
        {
          "output_type": "execute_result",
          "data": {
            "text/plain": [
              "     Article No.                                              Title  Year  \\\n",
              "0              1  Study of Virtual Reality Immersive Technology ...  2022   \n",
              "1              2  Factors Influencing Nursing Students' Immersiv...  2021   \n",
              "2              3  A Novel Immersive Anatomy Education System (An...  2022   \n",
              "3              4  Digital Learning Across Boundaries (DLAB): Imm...  2021   \n",
              "4              5  Connecting Macroscopic, Molecular, and Symboli...  2022   \n",
              "..           ...                                                ...   ...   \n",
              "159          160  Virtual reality enhances safety training in th...  2022   \n",
              "160          161  Virtual reality for developing intercultural c...  2022   \n",
              "161          162  Virtual reality in problem-based learning cont...  2021   \n",
              "162          163  Virtual reality is more efficient in learning ...  2020   \n",
              "163          164  VR and MR technology for safety management edu...  2022   \n",
              "\n",
              "     Author Number                                          Key Words  \\\n",
              "0              3.0  virtual reality technologies, mathematics lear...   \n",
              "1              2.0  virtual reality; learning; immersive media tec...   \n",
              "2             17.0  immersive technology; augmented reality; anato...   \n",
              "3              4.0  Digital literacy; Changing society; Social dyn...   \n",
              "4              3.0  high school/introductory chemistry; laboratory...   \n",
              "..             ...                                                ...   \n",
              "159            2.0  non-WEIRD sample; safety training; simulation;...   \n",
              "160            3.0  Affective domain; Cultural competence; Instruc...   \n",
              "161            3.0  English learning; motivation; problem-based le...   \n",
              "162            8.0    Virtual reality; Education; Human heart anatomy   \n",
              "163            2.0  Authentic learning; Construction safety; Virtu...   \n",
              "\n",
              "     Citation                                             Source  \\\n",
              "0         7.0                            FRONTIERS IN PSYCHOLOGY   \n",
              "1         3.0                                            SENSORS   \n",
              "2         2.0                             APPLIED SCIENCES-BASEL   \n",
              "3         3.0  RESEARCH IN EDUCATION AND LEARNING INNOVATION ...   \n",
              "4         0.0                                 EDUCATION SCIENCES   \n",
              "..        ...                                                ...   \n",
              "159       3.0              Journal of Computer Assisted Learning   \n",
              "160       1.0      Educational Technology Research & Development   \n",
              "161      27.0              Journal of Computer Assisted Learning   \n",
              "162      36.0                            New Ideas in Psychology   \n",
              "163      15.0                                     Safety Science   \n",
              "\n",
              "                                              Abstract     Type  \n",
              "0    Mathematics is an important foundation for the...  Journal  \n",
              "1    Background/objectives: This study aims to iden...  Journal  \n",
              "2    Immersive technologies are redefining ways of ...  Journal  \n",
              "3    The Digital Learning Across Boundaries: Develo...  Journal  \n",
              "4    Redox reaction is a difficult concept to teach...  Journal  \n",
              "..                                                 ...      ...  \n",
              "159  Objective: Many industries struggle with train...  Journal  \n",
              "160  Intercultural communicative competence (ICC) i...  Journal  \n",
              "161  Learning a foreign language requires interacti...  Journal  \n",
              "162  New technologies make their way into education...  Journal  \n",
              "163  ‚Ä¢ VR and MR are successful in operationalisi...  Journal  \n",
              "\n",
              "[164 rows x 9 columns]"
            ],
            "text/html": [
              "\n",
              "  <div id=\"df-6b2c0366-bd17-4c7c-b321-316df42a4b3f\">\n",
              "    <div class=\"colab-df-container\">\n",
              "      <div>\n",
              "<style scoped>\n",
              "    .dataframe tbody tr th:only-of-type {\n",
              "        vertical-align: middle;\n",
              "    }\n",
              "\n",
              "    .dataframe tbody tr th {\n",
              "        vertical-align: top;\n",
              "    }\n",
              "\n",
              "    .dataframe thead th {\n",
              "        text-align: right;\n",
              "    }\n",
              "</style>\n",
              "<table border=\"1\" class=\"dataframe\">\n",
              "  <thead>\n",
              "    <tr style=\"text-align: right;\">\n",
              "      <th></th>\n",
              "      <th>Article No.</th>\n",
              "      <th>Title</th>\n",
              "      <th>Year</th>\n",
              "      <th>Author Number</th>\n",
              "      <th>Key Words</th>\n",
              "      <th>Citation</th>\n",
              "      <th>Source</th>\n",
              "      <th>Abstract</th>\n",
              "      <th>Type</th>\n",
              "    </tr>\n",
              "  </thead>\n",
              "  <tbody>\n",
              "    <tr>\n",
              "      <th>0</th>\n",
              "      <td>1</td>\n",
              "      <td>Study of Virtual Reality Immersive Technology ...</td>\n",
              "      <td>2022</td>\n",
              "      <td>3.0</td>\n",
              "      <td>virtual reality technologies, mathematics lear...</td>\n",
              "      <td>7.0</td>\n",
              "      <td>FRONTIERS IN PSYCHOLOGY</td>\n",
              "      <td>Mathematics is an important foundation for the...</td>\n",
              "      <td>Journal</td>\n",
              "    </tr>\n",
              "    <tr>\n",
              "      <th>1</th>\n",
              "      <td>2</td>\n",
              "      <td>Factors Influencing Nursing Students' Immersiv...</td>\n",
              "      <td>2021</td>\n",
              "      <td>2.0</td>\n",
              "      <td>virtual reality; learning; immersive media tec...</td>\n",
              "      <td>3.0</td>\n",
              "      <td>SENSORS</td>\n",
              "      <td>Background/objectives: This study aims to iden...</td>\n",
              "      <td>Journal</td>\n",
              "    </tr>\n",
              "    <tr>\n",
              "      <th>2</th>\n",
              "      <td>3</td>\n",
              "      <td>A Novel Immersive Anatomy Education System (An...</td>\n",
              "      <td>2022</td>\n",
              "      <td>17.0</td>\n",
              "      <td>immersive technology; augmented reality; anato...</td>\n",
              "      <td>2.0</td>\n",
              "      <td>APPLIED SCIENCES-BASEL</td>\n",
              "      <td>Immersive technologies are redefining ways of ...</td>\n",
              "      <td>Journal</td>\n",
              "    </tr>\n",
              "    <tr>\n",
              "      <th>3</th>\n",
              "      <td>4</td>\n",
              "      <td>Digital Learning Across Boundaries (DLAB): Imm...</td>\n",
              "      <td>2021</td>\n",
              "      <td>4.0</td>\n",
              "      <td>Digital literacy; Changing society; Social dyn...</td>\n",
              "      <td>3.0</td>\n",
              "      <td>RESEARCH IN EDUCATION AND LEARNING INNOVATION ...</td>\n",
              "      <td>The Digital Learning Across Boundaries: Develo...</td>\n",
              "      <td>Journal</td>\n",
              "    </tr>\n",
              "    <tr>\n",
              "      <th>4</th>\n",
              "      <td>5</td>\n",
              "      <td>Connecting Macroscopic, Molecular, and Symboli...</td>\n",
              "      <td>2022</td>\n",
              "      <td>3.0</td>\n",
              "      <td>high school/introductory chemistry; laboratory...</td>\n",
              "      <td>0.0</td>\n",
              "      <td>EDUCATION SCIENCES</td>\n",
              "      <td>Redox reaction is a difficult concept to teach...</td>\n",
              "      <td>Journal</td>\n",
              "    </tr>\n",
              "    <tr>\n",
              "      <th>...</th>\n",
              "      <td>...</td>\n",
              "      <td>...</td>\n",
              "      <td>...</td>\n",
              "      <td>...</td>\n",
              "      <td>...</td>\n",
              "      <td>...</td>\n",
              "      <td>...</td>\n",
              "      <td>...</td>\n",
              "      <td>...</td>\n",
              "    </tr>\n",
              "    <tr>\n",
              "      <th>159</th>\n",
              "      <td>160</td>\n",
              "      <td>Virtual reality enhances safety training in th...</td>\n",
              "      <td>2022</td>\n",
              "      <td>2.0</td>\n",
              "      <td>non-WEIRD sample; safety training; simulation;...</td>\n",
              "      <td>3.0</td>\n",
              "      <td>Journal of Computer Assisted Learning</td>\n",
              "      <td>Objective: Many industries struggle with train...</td>\n",
              "      <td>Journal</td>\n",
              "    </tr>\n",
              "    <tr>\n",
              "      <th>160</th>\n",
              "      <td>161</td>\n",
              "      <td>Virtual reality for developing intercultural c...</td>\n",
              "      <td>2022</td>\n",
              "      <td>3.0</td>\n",
              "      <td>Affective domain; Cultural competence; Instruc...</td>\n",
              "      <td>1.0</td>\n",
              "      <td>Educational Technology Research &amp; Development</td>\n",
              "      <td>Intercultural communicative competence (ICC) i...</td>\n",
              "      <td>Journal</td>\n",
              "    </tr>\n",
              "    <tr>\n",
              "      <th>161</th>\n",
              "      <td>162</td>\n",
              "      <td>Virtual reality in problem-based learning cont...</td>\n",
              "      <td>2021</td>\n",
              "      <td>3.0</td>\n",
              "      <td>English learning; motivation; problem-based le...</td>\n",
              "      <td>27.0</td>\n",
              "      <td>Journal of Computer Assisted Learning</td>\n",
              "      <td>Learning a foreign language requires interacti...</td>\n",
              "      <td>Journal</td>\n",
              "    </tr>\n",
              "    <tr>\n",
              "      <th>162</th>\n",
              "      <td>163</td>\n",
              "      <td>Virtual reality is more efficient in learning ...</td>\n",
              "      <td>2020</td>\n",
              "      <td>8.0</td>\n",
              "      <td>Virtual reality; Education; Human heart anatomy</td>\n",
              "      <td>36.0</td>\n",
              "      <td>New Ideas in Psychology</td>\n",
              "      <td>New technologies make their way into education...</td>\n",
              "      <td>Journal</td>\n",
              "    </tr>\n",
              "    <tr>\n",
              "      <th>163</th>\n",
              "      <td>164</td>\n",
              "      <td>VR and MR technology for safety management edu...</td>\n",
              "      <td>2022</td>\n",
              "      <td>2.0</td>\n",
              "      <td>Authentic learning; Construction safety; Virtu...</td>\n",
              "      <td>15.0</td>\n",
              "      <td>Safety Science</td>\n",
              "      <td>‚Ä¢ VR and MR are successful in operationalisi...</td>\n",
              "      <td>Journal</td>\n",
              "    </tr>\n",
              "  </tbody>\n",
              "</table>\n",
              "<p>164 rows × 9 columns</p>\n",
              "</div>\n",
              "      <button class=\"colab-df-convert\" onclick=\"convertToInteractive('df-6b2c0366-bd17-4c7c-b321-316df42a4b3f')\"\n",
              "              title=\"Convert this dataframe to an interactive table.\"\n",
              "              style=\"display:none;\">\n",
              "        \n",
              "  <svg xmlns=\"http://www.w3.org/2000/svg\" height=\"24px\"viewBox=\"0 0 24 24\"\n",
              "       width=\"24px\">\n",
              "    <path d=\"M0 0h24v24H0V0z\" fill=\"none\"/>\n",
              "    <path d=\"M18.56 5.44l.94 2.06.94-2.06 2.06-.94-2.06-.94-.94-2.06-.94 2.06-2.06.94zm-11 1L8.5 8.5l.94-2.06 2.06-.94-2.06-.94L8.5 2.5l-.94 2.06-2.06.94zm10 10l.94 2.06.94-2.06 2.06-.94-2.06-.94-.94-2.06-.94 2.06-2.06.94z\"/><path d=\"M17.41 7.96l-1.37-1.37c-.4-.4-.92-.59-1.43-.59-.52 0-1.04.2-1.43.59L10.3 9.45l-7.72 7.72c-.78.78-.78 2.05 0 2.83L4 21.41c.39.39.9.59 1.41.59.51 0 1.02-.2 1.41-.59l7.78-7.78 2.81-2.81c.8-.78.8-2.07 0-2.86zM5.41 20L4 18.59l7.72-7.72 1.47 1.35L5.41 20z\"/>\n",
              "  </svg>\n",
              "      </button>\n",
              "      \n",
              "  <style>\n",
              "    .colab-df-container {\n",
              "      display:flex;\n",
              "      flex-wrap:wrap;\n",
              "      gap: 12px;\n",
              "    }\n",
              "\n",
              "    .colab-df-convert {\n",
              "      background-color: #E8F0FE;\n",
              "      border: none;\n",
              "      border-radius: 50%;\n",
              "      cursor: pointer;\n",
              "      display: none;\n",
              "      fill: #1967D2;\n",
              "      height: 32px;\n",
              "      padding: 0 0 0 0;\n",
              "      width: 32px;\n",
              "    }\n",
              "\n",
              "    .colab-df-convert:hover {\n",
              "      background-color: #E2EBFA;\n",
              "      box-shadow: 0px 1px 2px rgba(60, 64, 67, 0.3), 0px 1px 3px 1px rgba(60, 64, 67, 0.15);\n",
              "      fill: #174EA6;\n",
              "    }\n",
              "\n",
              "    [theme=dark] .colab-df-convert {\n",
              "      background-color: #3B4455;\n",
              "      fill: #D2E3FC;\n",
              "    }\n",
              "\n",
              "    [theme=dark] .colab-df-convert:hover {\n",
              "      background-color: #434B5C;\n",
              "      box-shadow: 0px 1px 3px 1px rgba(0, 0, 0, 0.15);\n",
              "      filter: drop-shadow(0px 1px 2px rgba(0, 0, 0, 0.3));\n",
              "      fill: #FFFFFF;\n",
              "    }\n",
              "  </style>\n",
              "\n",
              "      <script>\n",
              "        const buttonEl =\n",
              "          document.querySelector('#df-6b2c0366-bd17-4c7c-b321-316df42a4b3f button.colab-df-convert');\n",
              "        buttonEl.style.display =\n",
              "          google.colab.kernel.accessAllowed ? 'block' : 'none';\n",
              "\n",
              "        async function convertToInteractive(key) {\n",
              "          const element = document.querySelector('#df-6b2c0366-bd17-4c7c-b321-316df42a4b3f');\n",
              "          const dataTable =\n",
              "            await google.colab.kernel.invokeFunction('convertToInteractive',\n",
              "                                                     [key], {});\n",
              "          if (!dataTable) return;\n",
              "\n",
              "          const docLinkHtml = 'Like what you see? Visit the ' +\n",
              "            '<a target=\"_blank\" href=https://colab.research.google.com/notebooks/data_table.ipynb>data table notebook</a>'\n",
              "            + ' to learn more about interactive tables.';\n",
              "          element.innerHTML = '';\n",
              "          dataTable['output_type'] = 'display_data';\n",
              "          await google.colab.output.renderOutput(dataTable, element);\n",
              "          const docLink = document.createElement('div');\n",
              "          docLink.innerHTML = docLinkHtml;\n",
              "          element.appendChild(docLink);\n",
              "        }\n",
              "      </script>\n",
              "    </div>\n",
              "  </div>\n",
              "  "
            ]
          },
          "metadata": {},
          "execution_count": 3
        }
      ]
    },
    {
      "cell_type": "code",
      "source": [
        "authorInfo = pd.read_csv('/content/authorInfo.csv')"
      ],
      "metadata": {
        "id": "KYU4dnf5c1-a"
      },
      "execution_count": null,
      "outputs": []
    },
    {
      "cell_type": "code",
      "source": [
        "mergedData = pd.merge(articleInfo, authorInfo, on='Article No.') # Merges both datasets with common Article No."
      ],
      "metadata": {
        "id": "XUxDnXgyeK8l"
      },
      "execution_count": null,
      "outputs": []
    },
    {
      "cell_type": "code",
      "source": [
        "mergedData.fillna(0, inplace=True) # Fills any missing data (NaN) as 0\n",
        "print(mergedData)"
      ],
      "metadata": {
        "colab": {
          "base_uri": "https://localhost:8080/"
        },
        "id": "2nQ1UYKNgMWE",
        "outputId": "8d3220a7-c874-4100-f4da-68a93b25fd7c"
      },
      "execution_count": null,
      "outputs": [
        {
          "output_type": "stream",
          "name": "stdout",
          "text": [
            "     Article No.                                              Title  Year  \\\n",
            "0              1  Study of Virtual Reality Immersive Technology ...  2022   \n",
            "1              1  Study of Virtual Reality Immersive Technology ...  2022   \n",
            "2              1  Study of Virtual Reality Immersive Technology ...  2022   \n",
            "3              2  Factors Influencing Nursing Students' Immersiv...  2021   \n",
            "4              2  Factors Influencing Nursing Students' Immersiv...  2021   \n",
            "..           ...                                                ...   ...   \n",
            "383           81  Teaching Enzyme Catalysis Using Interactive Mo...  2019   \n",
            "384           81  Teaching Enzyme Catalysis Using Interactive Mo...  2019   \n",
            "385           81  Teaching Enzyme Catalysis Using Interactive Mo...  2019   \n",
            "386           81  Teaching Enzyme Catalysis Using Interactive Mo...  2019   \n",
            "387           81  Teaching Enzyme Catalysis Using Interactive Mo...  2019   \n",
            "\n",
            "     Author Number                                          Key Words  \\\n",
            "0              3.0  virtual reality technologies, mathematics lear...   \n",
            "1              3.0  virtual reality technologies, mathematics lear...   \n",
            "2              3.0  virtual reality technologies, mathematics lear...   \n",
            "3              2.0  virtual reality; learning; immersive media tec...   \n",
            "4              2.0  virtual reality; learning; immersive media tec...   \n",
            "..             ...                                                ...   \n",
            "383            7.0  Graduate Education/Research, Biochemistry, Com...   \n",
            "384            7.0  Graduate Education/Research, Biochemistry, Com...   \n",
            "385            7.0  Graduate Education/Research, Biochemistry, Com...   \n",
            "386            7.0  Graduate Education/Research, Biochemistry, Com...   \n",
            "387            7.0  Graduate Education/Research, Biochemistry, Com...   \n",
            "\n",
            "     Citation                         Source  \\\n",
            "0         7.0        FRONTIERS IN PSYCHOLOGY   \n",
            "1         7.0        FRONTIERS IN PSYCHOLOGY   \n",
            "2         7.0        FRONTIERS IN PSYCHOLOGY   \n",
            "3         3.0                        SENSORS   \n",
            "4         3.0                        SENSORS   \n",
            "..        ...                            ...   \n",
            "383      85.0  JOURNAL OF CHEMICAL EDUCATION   \n",
            "384      85.0  JOURNAL OF CHEMICAL EDUCATION   \n",
            "385      85.0  JOURNAL OF CHEMICAL EDUCATION   \n",
            "386      85.0  JOURNAL OF CHEMICAL EDUCATION   \n",
            "387      85.0  JOURNAL OF CHEMICAL EDUCATION   \n",
            "\n",
            "                                              Abstract     Type  \\\n",
            "0    Mathematics is an important foundation for the...  Journal   \n",
            "1    Mathematics is an important foundation for the...  Journal   \n",
            "2    Mathematics is an important foundation for the...  Journal   \n",
            "3    Background/objectives: This study aims to iden...  Journal   \n",
            "4    Background/objectives: This study aims to iden...  Journal   \n",
            "..                                                 ...      ...   \n",
            "383  The reemergence of virtual reality (VR) in the...  Journal   \n",
            "384  The reemergence of virtual reality (VR) in the...  Journal   \n",
            "385  The reemergence of virtual reality (VR) in the...  Journal   \n",
            "386  The reemergence of virtual reality (VR) in the...  Journal   \n",
            "387  The reemergence of virtual reality (VR) in the...  Journal   \n",
            "\n",
            "              Author Name                       Author Affiliation Country  \\\n",
            "0             Yu-Sheng Su         National Taiwan Ocean University  Taiwan   \n",
            "1          Hung-Wei Cheng         National Taiwan Ocean University  Taiwan   \n",
            "2           Chin-Feng Lai           National Cheng Kung University  Taiwan   \n",
            "3             Youngju Kim   Daejeon Health Institute of Technology   Korea   \n",
            "4            Sung Yun Ahn                      Pai Chai University   Korea   \n",
            "..                    ...                                      ...     ...   \n",
            "383          Kenny Miller                  Boise State University      USA   \n",
            "384  Shalini Ramachandran                       Chapman University     USA   \n",
            "385             Sheree Fu  California State University Los Angeles     USA   \n",
            "386          Karen Howell        University of Southern California     USA   \n",
            "387        Steven Cutchin                  Boise State University      USA   \n",
            "\n",
            "     h-index  \n",
            "0        0.0  \n",
            "1        0.0  \n",
            "2        0.0  \n",
            "3        0.0  \n",
            "4        0.0  \n",
            "..       ...  \n",
            "383      0.0  \n",
            "384      2.0  \n",
            "385      0.0  \n",
            "386      0.0  \n",
            "387      0.0  \n",
            "\n",
            "[388 rows x 13 columns]\n"
          ]
        }
      ]
    },
    {
      "cell_type": "code",
      "source": [
        "# yearsCount = mergedData.groupby('Year').count()\n",
        "years = mergedData.groupby('Year').count()\n",
        "# years.index\n",
        "\n",
        "yearsSum = mergedData.groupby('Year').sum()\n",
        "yearsSum"
      ],
      "metadata": {
        "colab": {
          "base_uri": "https://localhost:8080/",
          "height": 269
        },
        "id": "cfztzy0diEoI",
        "outputId": "2fe43a9e-e378-42b3-eaaa-4b30f850a447"
      },
      "execution_count": null,
      "outputs": [
        {
          "output_type": "execute_result",
          "data": {
            "text/plain": [
              "      Article No.  Author Number  Citation  h-index\n",
              "Year                                               \n",
              "2017          503           29.0    3340.0     43.0\n",
              "2018          961           93.0    1690.0     83.0\n",
              "2019         1201          105.0    1759.0     78.0\n",
              "2020         3174          448.0    1653.0    439.0\n",
              "2021         3768          463.0    1344.0    478.0\n",
              "2022         6079         1083.0     417.0    423.0"
            ],
            "text/html": [
              "\n",
              "  <div id=\"df-e1c2dbb8-f2ce-4c7c-aacf-7c6433e09519\">\n",
              "    <div class=\"colab-df-container\">\n",
              "      <div>\n",
              "<style scoped>\n",
              "    .dataframe tbody tr th:only-of-type {\n",
              "        vertical-align: middle;\n",
              "    }\n",
              "\n",
              "    .dataframe tbody tr th {\n",
              "        vertical-align: top;\n",
              "    }\n",
              "\n",
              "    .dataframe thead th {\n",
              "        text-align: right;\n",
              "    }\n",
              "</style>\n",
              "<table border=\"1\" class=\"dataframe\">\n",
              "  <thead>\n",
              "    <tr style=\"text-align: right;\">\n",
              "      <th></th>\n",
              "      <th>Article No.</th>\n",
              "      <th>Author Number</th>\n",
              "      <th>Citation</th>\n",
              "      <th>h-index</th>\n",
              "    </tr>\n",
              "    <tr>\n",
              "      <th>Year</th>\n",
              "      <th></th>\n",
              "      <th></th>\n",
              "      <th></th>\n",
              "      <th></th>\n",
              "    </tr>\n",
              "  </thead>\n",
              "  <tbody>\n",
              "    <tr>\n",
              "      <th>2017</th>\n",
              "      <td>503</td>\n",
              "      <td>29.0</td>\n",
              "      <td>3340.0</td>\n",
              "      <td>43.0</td>\n",
              "    </tr>\n",
              "    <tr>\n",
              "      <th>2018</th>\n",
              "      <td>961</td>\n",
              "      <td>93.0</td>\n",
              "      <td>1690.0</td>\n",
              "      <td>83.0</td>\n",
              "    </tr>\n",
              "    <tr>\n",
              "      <th>2019</th>\n",
              "      <td>1201</td>\n",
              "      <td>105.0</td>\n",
              "      <td>1759.0</td>\n",
              "      <td>78.0</td>\n",
              "    </tr>\n",
              "    <tr>\n",
              "      <th>2020</th>\n",
              "      <td>3174</td>\n",
              "      <td>448.0</td>\n",
              "      <td>1653.0</td>\n",
              "      <td>439.0</td>\n",
              "    </tr>\n",
              "    <tr>\n",
              "      <th>2021</th>\n",
              "      <td>3768</td>\n",
              "      <td>463.0</td>\n",
              "      <td>1344.0</td>\n",
              "      <td>478.0</td>\n",
              "    </tr>\n",
              "    <tr>\n",
              "      <th>2022</th>\n",
              "      <td>6079</td>\n",
              "      <td>1083.0</td>\n",
              "      <td>417.0</td>\n",
              "      <td>423.0</td>\n",
              "    </tr>\n",
              "  </tbody>\n",
              "</table>\n",
              "</div>\n",
              "      <button class=\"colab-df-convert\" onclick=\"convertToInteractive('df-e1c2dbb8-f2ce-4c7c-aacf-7c6433e09519')\"\n",
              "              title=\"Convert this dataframe to an interactive table.\"\n",
              "              style=\"display:none;\">\n",
              "        \n",
              "  <svg xmlns=\"http://www.w3.org/2000/svg\" height=\"24px\"viewBox=\"0 0 24 24\"\n",
              "       width=\"24px\">\n",
              "    <path d=\"M0 0h24v24H0V0z\" fill=\"none\"/>\n",
              "    <path d=\"M18.56 5.44l.94 2.06.94-2.06 2.06-.94-2.06-.94-.94-2.06-.94 2.06-2.06.94zm-11 1L8.5 8.5l.94-2.06 2.06-.94-2.06-.94L8.5 2.5l-.94 2.06-2.06.94zm10 10l.94 2.06.94-2.06 2.06-.94-2.06-.94-.94-2.06-.94 2.06-2.06.94z\"/><path d=\"M17.41 7.96l-1.37-1.37c-.4-.4-.92-.59-1.43-.59-.52 0-1.04.2-1.43.59L10.3 9.45l-7.72 7.72c-.78.78-.78 2.05 0 2.83L4 21.41c.39.39.9.59 1.41.59.51 0 1.02-.2 1.41-.59l7.78-7.78 2.81-2.81c.8-.78.8-2.07 0-2.86zM5.41 20L4 18.59l7.72-7.72 1.47 1.35L5.41 20z\"/>\n",
              "  </svg>\n",
              "      </button>\n",
              "      \n",
              "  <style>\n",
              "    .colab-df-container {\n",
              "      display:flex;\n",
              "      flex-wrap:wrap;\n",
              "      gap: 12px;\n",
              "    }\n",
              "\n",
              "    .colab-df-convert {\n",
              "      background-color: #E8F0FE;\n",
              "      border: none;\n",
              "      border-radius: 50%;\n",
              "      cursor: pointer;\n",
              "      display: none;\n",
              "      fill: #1967D2;\n",
              "      height: 32px;\n",
              "      padding: 0 0 0 0;\n",
              "      width: 32px;\n",
              "    }\n",
              "\n",
              "    .colab-df-convert:hover {\n",
              "      background-color: #E2EBFA;\n",
              "      box-shadow: 0px 1px 2px rgba(60, 64, 67, 0.3), 0px 1px 3px 1px rgba(60, 64, 67, 0.15);\n",
              "      fill: #174EA6;\n",
              "    }\n",
              "\n",
              "    [theme=dark] .colab-df-convert {\n",
              "      background-color: #3B4455;\n",
              "      fill: #D2E3FC;\n",
              "    }\n",
              "\n",
              "    [theme=dark] .colab-df-convert:hover {\n",
              "      background-color: #434B5C;\n",
              "      box-shadow: 0px 1px 3px 1px rgba(0, 0, 0, 0.15);\n",
              "      filter: drop-shadow(0px 1px 2px rgba(0, 0, 0, 0.3));\n",
              "      fill: #FFFFFF;\n",
              "    }\n",
              "  </style>\n",
              "\n",
              "      <script>\n",
              "        const buttonEl =\n",
              "          document.querySelector('#df-e1c2dbb8-f2ce-4c7c-aacf-7c6433e09519 button.colab-df-convert');\n",
              "        buttonEl.style.display =\n",
              "          google.colab.kernel.accessAllowed ? 'block' : 'none';\n",
              "\n",
              "        async function convertToInteractive(key) {\n",
              "          const element = document.querySelector('#df-e1c2dbb8-f2ce-4c7c-aacf-7c6433e09519');\n",
              "          const dataTable =\n",
              "            await google.colab.kernel.invokeFunction('convertToInteractive',\n",
              "                                                     [key], {});\n",
              "          if (!dataTable) return;\n",
              "\n",
              "          const docLinkHtml = 'Like what you see? Visit the ' +\n",
              "            '<a target=\"_blank\" href=https://colab.research.google.com/notebooks/data_table.ipynb>data table notebook</a>'\n",
              "            + ' to learn more about interactive tables.';\n",
              "          element.innerHTML = '';\n",
              "          dataTable['output_type'] = 'display_data';\n",
              "          await google.colab.output.renderOutput(dataTable, element);\n",
              "          const docLink = document.createElement('div');\n",
              "          docLink.innerHTML = docLinkHtml;\n",
              "          element.appendChild(docLink);\n",
              "        }\n",
              "      </script>\n",
              "    </div>\n",
              "  </div>\n",
              "  "
            ]
          },
          "metadata": {},
          "execution_count": 7
        }
      ]
    },
    {
      "cell_type": "code",
      "source": [
        "plt.plot(years.index, years['Article No.'])\n",
        "\n",
        "plt.title('Yearly Publication') # Sets the title of the figure\n",
        "plt.xlabel('Years') # Sets the label of the x-axis\n",
        "plt.ylabel('Number of Articles') # Sets the label of the y-axis\n",
        "plt.show() # Displays the figure"
      ],
      "metadata": {
        "colab": {
          "base_uri": "https://localhost:8080/",
          "height": 295
        },
        "id": "kyaOJ_aFg1vd",
        "outputId": "ecd1e18d-1989-4ccf-ab2a-51dfc89a081e"
      },
      "execution_count": null,
      "outputs": [
        {
          "output_type": "display_data",
          "data": {
            "text/plain": [
              "<Figure size 432x288 with 1 Axes>"
            ],
            "image/png": "[encoded data removed]"
          },
          "metadata": {
            "needs_background": "light"
          }
        }
      ]
    },
    {
      "cell_type": "code",
      "source": [
        "plt.plot(yearsSum.index, yearsSum['Citation'])\n",
        "\n",
        "plt.title('Yearly Citation') # Sets the title of the figure\n",
        "plt.xlabel('Years') # Sets the label of the x-axis\n",
        "plt.ylabel('Total number of citations') # Sets the label of the y-axis\n",
        "plt.show() # Displays the figure"
      ],
      "metadata": {
        "colab": {
          "base_uri": "https://localhost:8080/",
          "height": 295
        },
        "id": "ggD5k2csWpha",
        "outputId": "e7c839cf-353a-4547-ab2f-98f30827a106"
      },
      "execution_count": null,
      "outputs": [
        {
          "output_type": "display_data",
          "data": {
            "text/plain": [
              "<Figure size 432x288 with 1 Axes>"
            ],
            "image/png": "[encoded data removed]"
          },
          "metadata": {
            "needs_background": "light"
          }
        }
      ]
    },
    {
      "cell_type": "code",
      "source": [
        "\n",
        "\n",
        "# countriesLabels = []\n",
        "# indexLabels = []\n",
        "# xLabelsLoc = []\n",
        "\n",
        "# for index, countries in enumerate(countriesData.index):\n",
        "#   countriesLabels.append(countries)\n",
        "#   indexLabels.append(index)\n",
        "\n",
        "# print(countriesLabels)\n",
        "# print(indexLabels)\n",
        "\n",
        "# for index, _ in enumerate(indexLabels):\n",
        "#   xLabelsLoc.append(0.025)\n",
        "\n",
        "# plt.bar(countriesData['Article No.'], indexLabels, width=2)\n",
        "\n",
        "# plt.title('Number of Articles per Country')\n",
        "# plt.xlabel('Countries')\n",
        "# plt.xticks(indexLabels, countriesLabels)\n",
        "# plt.ylabel('Number of Articles')\n",
        "# plt.show()"
      ],
      "metadata": {
        "colab": {
          "base_uri": "https://localhost:8080/"
        },
        "id": "NfHbxmFQe-Mx",
        "outputId": "fe7caf37-f536-4d3c-a0af-79d1ef553cf6"
      },
      "execution_count": null,
      "outputs": [
        {
          "output_type": "stream",
          "name": "stdout",
          "text": [
            "                      Article No.  Title  Year  Author Number  Key Words  \\\n",
            "Country                                                                    \n",
            "0                               2      2     2              2          2   \n",
            "Australia                      13     13    13             13         13   \n",
            "Bristol                         1      1     1              1          1   \n",
            "Canada                         12     12    12             12         12   \n",
            "Chian                           1      1     1              1          1   \n",
            "Chile                           3      3     3              3          3   \n",
            "Chile                           6      6     6              6          6   \n",
            "China                          34     34    34             34         34   \n",
            "Cyprus                          7      7     7              7          7   \n",
            "Czech Republic                 15     15    15             15         15   \n",
            "Denamrk                         8      8     8              8          8   \n",
            "Denmark                         5      5     5              5          5   \n",
            "France                          7      7     7              7          7   \n",
            "Germany                        26     26    26             26         26   \n",
            "Greece                          5      5     5              5          5   \n",
            "Hong Kong                       8      8     8              8          8   \n",
            "India                           3      3     3              3          3   \n",
            "Ireland                        17     17    17             17         17   \n",
            "Israel                          1      1     1              1          1   \n",
            "Italy                          19     19    19             19         19   \n",
            "Korea                           3      3     3              3          3   \n",
            "Kyrgyzstan                      1      1     1              1          1   \n",
            "Liechtenstein                   2      2     2              2          2   \n",
            "Malaysia                        6      6     6              6          6   \n",
            "Mexico                          3      3     3              3          3   \n",
            "New Zealand                     6      6     6              6          6   \n",
            "Norway                          2      2     2              2          2   \n",
            "Pakistan                        6      6     6              6          6   \n",
            "Palestine                       1      1     1              1          1   \n",
            "Russia                          5      5     5              5          5   \n",
            "Slovakia                        7      7     7              7          7   \n",
            "South Africa                   17     17    17             17         17   \n",
            "Spain                           9      9     9              9          9   \n",
            "Spain                          10     10    10             10         10   \n",
            "Switzerland                     5      5     5              5          5   \n",
            "Taiwan                         13     13    13             13         13   \n",
            "USA                            62     62    62             62         62   \n",
            "Ukraine                         6      6     6              6          6   \n",
            "United Arab Emirates            1      1     1              1          1   \n",
            "United Kingdom                 30     30    30             30         30   \n",
            "\n",
            "                      Citation  Source  Abstract  Type  Author Name  \\\n",
            "Country                                                               \n",
            "0                            2       2         2     2            2   \n",
            "Australia                   13      13        13    13           13   \n",
            "Bristol                      1       1         1     1            1   \n",
            "Canada                      12      12        12    12           12   \n",
            "Chian                        1       1         1     1            1   \n",
            "Chile                        3       3         3     3            3   \n",
            "Chile                        6       6         6     6            6   \n",
            "China                       34      34        34    34           34   \n",
            "Cyprus                       7       7         7     7            7   \n",
            "Czech Republic              15      15        15    15           15   \n",
            "Denamrk                      8       8         8     8            8   \n",
            "Denmark                      5       5         5     5            5   \n",
            "France                       7       7         7     7            7   \n",
            "Germany                     26      26        26    26           26   \n",
            "Greece                       5       5         5     5            5   \n",
            "Hong Kong                    8       8         8     8            8   \n",
            "India                        3       3         3     3            3   \n",
            "Ireland                     17      17        17    17           17   \n",
            "Israel                       1       1         1     1            1   \n",
            "Italy                       19      19        19    19           19   \n",
            "Korea                        3       3         3     3            3   \n",
            "Kyrgyzstan                   1       1         1     1            1   \n",
            "Liechtenstein                2       2         2     2            2   \n",
            "Malaysia                     6       6         6     6            6   \n",
            "Mexico                       3       3         3     3            3   \n",
            "New Zealand                  6       6         6     6            6   \n",
            "Norway                       2       2         2     2            2   \n",
            "Pakistan                     6       6         6     6            6   \n",
            "Palestine                    1       1         1     1            1   \n",
            "Russia                       5       5         5     5            5   \n",
            "Slovakia                     7       7         7     7            7   \n",
            "South Africa                17      17        17    17           17   \n",
            "Spain                        9       9         9     9            9   \n",
            "Spain                       10      10        10    10           10   \n",
            "Switzerland                  5       5         5     5            5   \n",
            "Taiwan                      13      13        13    13           13   \n",
            "USA                         62      62        62    62           62   \n",
            "Ukraine                      6       6         6     6            6   \n",
            "United Arab Emirates         1       1         1     1            1   \n",
            "United Kingdom              30      30        30    30           30   \n",
            "\n",
            "                      Author Affiliation  h-index  \n",
            "Country                                            \n",
            "0                                      2        2  \n",
            "Australia                             13       13  \n",
            "Bristol                                1        1  \n",
            "Canada                                12       12  \n",
            "Chian                                  1        1  \n",
            "Chile                                  3        3  \n",
            "Chile                                  6        6  \n",
            "China                                 34       34  \n",
            "Cyprus                                 7        7  \n",
            "Czech Republic                        15       15  \n",
            "Denamrk                                8        8  \n",
            "Denmark                                5        5  \n",
            "France                                 7        7  \n",
            "Germany                               26       26  \n",
            "Greece                                 5        5  \n",
            "Hong Kong                              8        8  \n",
            "India                                  3        3  \n",
            "Ireland                               17       17  \n",
            "Israel                                 1        1  \n",
            "Italy                                 19       19  \n",
            "Korea                                  3        3  \n",
            "Kyrgyzstan                             1        1  \n",
            "Liechtenstein                          2        2  \n",
            "Malaysia                               6        6  \n",
            "Mexico                                 3        3  \n",
            "New Zealand                            6        6  \n",
            "Norway                                 2        2  \n",
            "Pakistan                               6        6  \n",
            "Palestine                              1        1  \n",
            "Russia                                 5        5  \n",
            "Slovakia                               7        7  \n",
            "South Africa                          17       17  \n",
            "Spain                                  9        9  \n",
            "Spain                                 10       10  \n",
            "Switzerland                            5        5  \n",
            "Taiwan                                13       13  \n",
            "USA                                   62       62  \n",
            "Ukraine                                6        6  \n",
            "United Arab Emirates                   1        1  \n",
            "United Kingdom                        30       30  \n",
            "{'Australia': 13, 'Bristol': 1, 'Canada': 12, 'Chian': 1, 'Chile': 3, 'Chile ': 6, 'China': 34, 'Cyprus': 7, 'Czech Republic': 15, 'Denamrk': 8, 'Denmark ': 5, 'France': 7, 'Germany': 26, 'Greece': 5, 'Hong Kong': 8, 'India': 3, 'Ireland': 17, 'Israel ': 1, 'Italy': 19, 'Korea': 3, 'Kyrgyzstan': 1, 'Liechtenstein': 2, 'Malaysia': 6, 'Mexico': 3, 'New Zealand': 6, 'Norway': 2, 'Pakistan': 6, 'Palestine': 1, 'Russia': 5, 'Slovakia': 7, 'South Africa': 17, 'Spain': 9, 'Spain ': 10, 'Switzerland': 5, 'Taiwan': 13, 'USA': 62, 'Ukraine': 6, 'United Arab Emirates': 1, 'United Kingdom': 30}\n"
          ]
        }
      ]
    },
    {
      "cell_type": "code",
      "source": [
        "# testS = 'test '\n",
        "# testNS = 'TESA '\n",
        "\n",
        "# if testNS[-1] == ' ':\n",
        "#   newTest = testNS[:-1]\n",
        "# else:\n",
        "#   newTest = testNS\n",
        "\n",
        "# # substrtest = testNS[-1]\n",
        "# print(newTest)\n",
        "\n",
        "def get_country_code(country_name):\n",
        "    # country_name = country_name.split(' ')[0]\n",
        "    if country_name == 'Chian':\n",
        "      country_name = 'China'\n",
        "    elif country_name == 'Denamrk':\n",
        "      country_name = 'Denmark'\n",
        "    elif country_name == 'Korea':\n",
        "      country_name = 'Korea, Republic of'\n",
        "    elif country_name == 'Palestine':\n",
        "      country_name = 'Palestine, State of'\n",
        "    elif country_name == 'Russia':\n",
        "      country_name = 'Russian Federation'\n",
        "    elif country_name == 'Taiwan':\n",
        "      country_name = 'tw'\n",
        "    elif country_name == 'USA':\n",
        "      country_name = 'United States'\n",
        "    elif country_name == 'Bristol':\n",
        "      country_name = 'United Kingdom'\n",
        "\n",
        "    if country_name[-1] == ' ':\n",
        "      country_name = country_name[:-1]\n",
        "    else:\n",
        "      country_name = country_name\n",
        "\n",
        "    for code, name in COUNTRIES.items():\n",
        "        if name == country_name:\n",
        "            return code\n",
        "    # If the country wasn't found, return None.\n",
        "    return country_name\n",
        "\n",
        "countriesData = mergedData.groupby('Country').count()\n",
        "\n",
        "# testA = get_country_code('Chile')\n",
        "# testB = get_country_code('Chile ')\n",
        "\n",
        "# print(testA)\n",
        "# print(testB)\n",
        "\n",
        "# print(countriesData)\n",
        "\n",
        "countryCodesData = {}\n",
        "\n",
        "for index, country in enumerate(countriesData.index):\n",
        "  if country != 0:\n",
        "    countryCode = get_country_code(country)\n",
        "\n",
        "    if countryCode in countryCodesData:\n",
        "      # print(f'INCREMENTING: {country} by {countriesData.values[index][0]}')\n",
        "      countryCodesData[countryCode] += countriesData.values[index][0]\n",
        "    else:\n",
        "      # print(f'SETTING NEW: {country}')\n",
        "      countryCodesData[countryCode] = countriesData.values[index][0]\n",
        "\n",
        "print(countryCodesData)\n",
        "\n",
        "worldmap_chart = World()\n",
        "worldmap_chart.title = 'Number of Publications'\n",
        "worldmap_chart.add('N. of Articles', countryCodesData)\n",
        "worldmap_chart.render_to_file('ArticlePerCountry.svg')"
      ],
      "metadata": {
        "colab": {
          "base_uri": "https://localhost:8080/"
        },
        "id": "gVsXvbkjrsYn",
        "outputId": "2431267f-b6a9-4645-e441-0c23724ad2f2"
      },
      "execution_count": null,
      "outputs": [
        {
          "output_type": "stream",
          "name": "stdout",
          "text": [
            "{'au': 13, 'gb': 31, 'ca': 12, 'cn': 35, 'cl': 9, 'cy': 7, 'cz': 15, 'dk': 13, 'fr': 7, 'de': 26, 'gr': 5, 'hk': 8, 'in': 3, 'ie': 17, 'il': 1, 'it': 19, 'kr': 3, 'kg': 1, 'li': 2, 'my': 6, 'mx': 3, 'nz': 6, 'no': 2, 'pk': 6, 'ps': 1, 'ru': 5, 'sk': 7, 'za': 17, 'es': 19, 'ch': 5, 'tw': 13, 'us': 62, 'ua': 6, 'ae': 1}\n"
          ]
        }
      ]
    },
    {
      "cell_type": "code",
      "source": [
        "countriesData = mergedData.groupby('Country').sum()\n",
        "ascendingCountriesData = countriesData.sort_values('h-index', ascending=True)\n",
        "print(ascendingCountriesData)"
      ],
      "metadata": {
        "colab": {
          "base_uri": "https://localhost:8080/"
        },
        "id": "ppjiPA4pzuZt",
        "outputId": "0b8cf2ae-2763-4f16-fd79-4a9bf074e04e"
      },
      "execution_count": null,
      "outputs": [
        {
          "output_type": "stream",
          "name": "stdout",
          "text": [
            "                      Article No.    Year  Author Number  Citation  h-index\n",
            "Country                                                                    \n",
            "Norway                         80    4042           12.0      96.0      0.0\n",
            "Israel                         31    2020            8.0      55.0      0.0\n",
            "South Africa                   51   34374          289.0      34.0      0.0\n",
            "Hong Kong                     144   16168           64.0      16.0      0.0\n",
            "Greece                        285   10110           60.0      20.0      0.0\n",
            "Kyrgyzstan                     52    2021            6.0      41.0      0.0\n",
            "Liechtenstein                  80    4042           12.0      96.0      0.0\n",
            "Denmark                       165   10110           25.0       0.0      0.0\n",
            "United Arab Emirates           79    2017            4.0     662.0      0.0\n",
            "Korea                          11    6064            6.0       7.0      0.0\n",
            "Chile                          69    6060           14.0     107.0      0.0\n",
            "Chian                          15    2021            3.0       4.0      0.0\n",
            "Ukraine                        84   12132           36.0       6.0      0.0\n",
            "Chile                         450   12132           30.0       6.0      1.0\n",
            "0                              97    4039            8.0      72.0      2.0\n",
            "Russia                        225   10110           30.0       0.0      4.0\n",
            "Palestine                      44    2022            0.0       0.0      5.0\n",
            "Bristol                        19    2020            3.0      26.0      5.0\n",
            "Ireland                       482   34368          163.0      60.0      5.0\n",
            "Pakistan                      354   12129           18.0      12.0      6.0\n",
            "Czech Republic                576   30330          144.0      12.0     10.0\n",
            "Spain                         408   18189           48.0     105.0     11.0\n",
            "Mexico                         33    6066           12.0       3.0     20.0\n",
            "India                         204    6063           24.0       3.0     27.0\n",
            "Cyprus                        334   14131           25.0    2687.0     28.0\n",
            "Taiwan                        352   26262           48.0     420.0     31.0\n",
            "Switzerland                   370   10110            5.0       5.0     33.0\n",
            "Slovakia                      328   14149           15.0      45.0     38.0\n",
            "Malaysia                      354   12129           18.0      12.0     54.0\n",
            "Spain                         286   20206           45.0     100.0     60.0\n",
            "France                        193   14141           39.0      81.0     79.0\n",
            "New Zealand                   201   12121           45.0     284.0     82.0\n",
            "Denamrk                       188   16162           40.0     686.0     82.0\n",
            "Italy                         664   38400          114.0     254.0    111.0\n",
            "Australia                     503   26272           47.0     325.0    114.0\n",
            "Canada                        623   24245           43.0     322.0    117.0\n",
            "China                        1451   68705          138.0    1290.0    135.0\n",
            "United Kingdom               1556   60603          114.0     468.0    139.0\n",
            "Germany                       996   52568           97.0     303.0    169.0\n",
            "USA                          3249  125266          369.0    1478.0    176.0\n"
          ]
        }
      ]
    },
    {
      "cell_type": "code",
      "source": [
        "dataFile = pd.read_csv('/content/data.csv')\n",
        "dataFile.head(10)"
      ],
      "metadata": {
        "colab": {
          "base_uri": "https://localhost:8080/",
          "height": 363
        },
        "id": "SmXZJJFtKVyN",
        "outputId": "964e6f56-fbfe-4f82-e4c0-3471637f1100"
      },
      "execution_count": null,
      "outputs": [
        {
          "output_type": "execute_result",
          "data": {
            "text/plain": [
              "   Purchase  SUS  Duration  Gender  ASR_Error  Intent_Error  Unnamed: 6\n",
              "0         1   84       254       0          3             2         NaN\n",
              "1         0   58       247       0          6             9         NaN\n",
              "2         0   56       125       1          6             8         NaN\n",
              "3         0   55        22       0         11             7         NaN\n",
              "4         1   95       262       0          2             3         NaN\n",
              "5         0   71       113       1          8             9         NaN\n",
              "6         0   76        91       1          6             3         NaN\n",
              "7         0   64        46       0          6            11         NaN\n",
              "8         0   56       132       0          9             9         NaN\n",
              "9         0   96       190       0         11             4         NaN"
            ],
            "text/html": [
              "\n",
              "  <div id=\"df-d1ad6535-3c9b-4a00-be77-1916970c0dab\">\n",
              "    <div class=\"colab-df-container\">\n",
              "      <div>\n",
              "<style scoped>\n",
              "    .dataframe tbody tr th:only-of-type {\n",
              "        vertical-align: middle;\n",
              "    }\n",
              "\n",
              "    .dataframe tbody tr th {\n",
              "        vertical-align: top;\n",
              "    }\n",
              "\n",
              "    .dataframe thead th {\n",
              "        text-align: right;\n",
              "    }\n",
              "</style>\n",
              "<table border=\"1\" class=\"dataframe\">\n",
              "  <thead>\n",
              "    <tr style=\"text-align: right;\">\n",
              "      <th></th>\n",
              "      <th>Purchase</th>\n",
              "      <th>SUS</th>\n",
              "      <th>Duration</th>\n",
              "      <th>Gender</th>\n",
              "      <th>ASR_Error</th>\n",
              "      <th>Intent_Error</th>\n",
              "      <th>Unnamed: 6</th>\n",
              "    </tr>\n",
              "  </thead>\n",
              "  <tbody>\n",
              "    <tr>\n",
              "      <th>0</th>\n",
              "      <td>1</td>\n",
              "      <td>84</td>\n",
              "      <td>254</td>\n",
              "      <td>0</td>\n",
              "      <td>3</td>\n",
              "      <td>2</td>\n",
              "      <td>NaN</td>\n",
              "    </tr>\n",
              "    <tr>\n",
              "      <th>1</th>\n",
              "      <td>0</td>\n",
              "      <td>58</td>\n",
              "      <td>247</td>\n",
              "      <td>0</td>\n",
              "      <td>6</td>\n",
              "      <td>9</td>\n",
              "      <td>NaN</td>\n",
              "    </tr>\n",
              "    <tr>\n",
              "      <th>2</th>\n",
              "      <td>0</td>\n",
              "      <td>56</td>\n",
              "      <td>125</td>\n",
              "      <td>1</td>\n",
              "      <td>6</td>\n",
              "      <td>8</td>\n",
              "      <td>NaN</td>\n",
              "    </tr>\n",
              "    <tr>\n",
              "      <th>3</th>\n",
              "      <td>0</td>\n",
              "      <td>55</td>\n",
              "      <td>22</td>\n",
              "      <td>0</td>\n",
              "      <td>11</td>\n",
              "      <td>7</td>\n",
              "      <td>NaN</td>\n",
              "    </tr>\n",
              "    <tr>\n",
              "      <th>4</th>\n",
              "      <td>1</td>\n",
              "      <td>95</td>\n",
              "      <td>262</td>\n",
              "      <td>0</td>\n",
              "      <td>2</td>\n",
              "      <td>3</td>\n",
              "      <td>NaN</td>\n",
              "    </tr>\n",
              "    <tr>\n",
              "      <th>5</th>\n",
              "      <td>0</td>\n",
              "      <td>71</td>\n",
              "      <td>113</td>\n",
              "      <td>1</td>\n",
              "      <td>8</td>\n",
              "      <td>9</td>\n",
              "      <td>NaN</td>\n",
              "    </tr>\n",
              "    <tr>\n",
              "      <th>6</th>\n",
              "      <td>0</td>\n",
              "      <td>76</td>\n",
              "      <td>91</td>\n",
              "      <td>1</td>\n",
              "      <td>6</td>\n",
              "      <td>3</td>\n",
              "      <td>NaN</td>\n",
              "    </tr>\n",
              "    <tr>\n",
              "      <th>7</th>\n",
              "      <td>0</td>\n",
              "      <td>64</td>\n",
              "      <td>46</td>\n",
              "      <td>0</td>\n",
              "      <td>6</td>\n",
              "      <td>11</td>\n",
              "      <td>NaN</td>\n",
              "    </tr>\n",
              "    <tr>\n",
              "      <th>8</th>\n",
              "      <td>0</td>\n",
              "      <td>56</td>\n",
              "      <td>132</td>\n",
              "      <td>0</td>\n",
              "      <td>9</td>\n",
              "      <td>9</td>\n",
              "      <td>NaN</td>\n",
              "    </tr>\n",
              "    <tr>\n",
              "      <th>9</th>\n",
              "      <td>0</td>\n",
              "      <td>96</td>\n",
              "      <td>190</td>\n",
              "      <td>0</td>\n",
              "      <td>11</td>\n",
              "      <td>4</td>\n",
              "      <td>NaN</td>\n",
              "    </tr>\n",
              "  </tbody>\n",
              "</table>\n",
              "</div>\n",
              "      <button class=\"colab-df-convert\" onclick=\"convertToInteractive('df-d1ad6535-3c9b-4a00-be77-1916970c0dab')\"\n",
              "              title=\"Convert this dataframe to an interactive table.\"\n",
              "              style=\"display:none;\">\n",
              "        \n",
              "  <svg xmlns=\"http://www.w3.org/2000/svg\" height=\"24px\"viewBox=\"0 0 24 24\"\n",
              "       width=\"24px\">\n",
              "    <path d=\"M0 0h24v24H0V0z\" fill=\"none\"/>\n",
              "    <path d=\"M18.56 5.44l.94 2.06.94-2.06 2.06-.94-2.06-.94-.94-2.06-.94 2.06-2.06.94zm-11 1L8.5 8.5l.94-2.06 2.06-.94-2.06-.94L8.5 2.5l-.94 2.06-2.06.94zm10 10l.94 2.06.94-2.06 2.06-.94-2.06-.94-.94-2.06-.94 2.06-2.06.94z\"/><path d=\"M17.41 7.96l-1.37-1.37c-.4-.4-.92-.59-1.43-.59-.52 0-1.04.2-1.43.59L10.3 9.45l-7.72 7.72c-.78.78-.78 2.05 0 2.83L4 21.41c.39.39.9.59 1.41.59.51 0 1.02-.2 1.41-.59l7.78-7.78 2.81-2.81c.8-.78.8-2.07 0-2.86zM5.41 20L4 18.59l7.72-7.72 1.47 1.35L5.41 20z\"/>\n",
              "  </svg>\n",
              "      </button>\n",
              "      \n",
              "  <style>\n",
              "    .colab-df-container {\n",
              "      display:flex;\n",
              "      flex-wrap:wrap;\n",
              "      gap: 12px;\n",
              "    }\n",
              "\n",
              "    .colab-df-convert {\n",
              "      background-color: #E8F0FE;\n",
              "      border: none;\n",
              "      border-radius: 50%;\n",
              "      cursor: pointer;\n",
              "      display: none;\n",
              "      fill: #1967D2;\n",
              "      height: 32px;\n",
              "      padding: 0 0 0 0;\n",
              "      width: 32px;\n",
              "    }\n",
              "\n",
              "    .colab-df-convert:hover {\n",
              "      background-color: #E2EBFA;\n",
              "      box-shadow: 0px 1px 2px rgba(60, 64, 67, 0.3), 0px 1px 3px 1px rgba(60, 64, 67, 0.15);\n",
              "      fill: #174EA6;\n",
              "    }\n",
              "\n",
              "    [theme=dark] .colab-df-convert {\n",
              "      background-color: #3B4455;\n",
              "      fill: #D2E3FC;\n",
              "    }\n",
              "\n",
              "    [theme=dark] .colab-df-convert:hover {\n",
              "      background-color: #434B5C;\n",
              "      box-shadow: 0px 1px 3px 1px rgba(0, 0, 0, 0.15);\n",
              "      filter: drop-shadow(0px 1px 2px rgba(0, 0, 0, 0.3));\n",
              "      fill: #FFFFFF;\n",
              "    }\n",
              "  </style>\n",
              "\n",
              "      <script>\n",
              "        const buttonEl =\n",
              "          document.querySelector('#df-d1ad6535-3c9b-4a00-be77-1916970c0dab button.colab-df-convert');\n",
              "        buttonEl.style.display =\n",
              "          google.colab.kernel.accessAllowed ? 'block' : 'none';\n",
              "\n",
              "        async function convertToInteractive(key) {\n",
              "          const element = document.querySelector('#df-d1ad6535-3c9b-4a00-be77-1916970c0dab');\n",
              "          const dataTable =\n",
              "            await google.colab.kernel.invokeFunction('convertToInteractive',\n",
              "                                                     [key], {});\n",
              "          if (!dataTable) return;\n",
              "\n",
              "          const docLinkHtml = 'Like what you see? Visit the ' +\n",
              "            '<a target=\"_blank\" href=https://colab.research.google.com/notebooks/data_table.ipynb>data table notebook</a>'\n",
              "            + ' to learn more about interactive tables.';\n",
              "          element.innerHTML = '';\n",
              "          dataTable['output_type'] = 'display_data';\n",
              "          await google.colab.output.renderOutput(dataTable, element);\n",
              "          const docLink = document.createElement('div');\n",
              "          docLink.innerHTML = docLinkHtml;\n",
              "          element.appendChild(docLink);\n",
              "        }\n",
              "      </script>\n",
              "    </div>\n",
              "  </div>\n",
              "  "
            ]
          },
          "metadata": {},
          "execution_count": 6
        }
      ]
    },
    {
      "cell_type": "code",
      "source": [
        "dataFile.isna().sum()\n",
        "dataFile = dataFile.fillna(0)"
      ],
      "metadata": {
        "id": "z8S9X77sK1x_"
      },
      "execution_count": null,
      "outputs": []
    },
    {
      "cell_type": "code",
      "source": [
        "dataFile.corr(method='pearson')['SUS'].sort_values()"
      ],
      "metadata": {
        "colab": {
          "base_uri": "https://localhost:8080/"
        },
        "id": "laFdiIghLOMK",
        "outputId": "915b3810-4a92-420a-f700-ed8f52879e1c"
      },
      "execution_count": null,
      "outputs": [
        {
          "output_type": "execute_result",
          "data": {
            "text/plain": [
              "Intent_Error   -0.693675\n",
              "ASR_Error      -0.662405\n",
              "Duration       -0.006631\n",
              "Gender          0.111523\n",
              "Purchase        0.661931\n",
              "SUS             1.000000\n",
              "Unnamed: 6           NaN\n",
              "Name: SUS, dtype: float64"
            ]
          },
          "metadata": {},
          "execution_count": 8
        }
      ]
    },
    {
      "cell_type": "code",
      "source": [
        "sns.heatmap(dataFile.corr())"
      ],
      "metadata": {
        "colab": {
          "base_uri": "https://localhost:8080/",
          "height": 337
        },
        "id": "6iN1RZHBbmtB",
        "outputId": "a0cd3fd5-2684-4dce-f0c2-e35930c1735e"
      },
      "execution_count": null,
      "outputs": [
        {
          "output_type": "execute_result",
          "data": {
            "text/plain": [
              "<matplotlib.axes._subplots.AxesSubplot at 0x7f8594dd54c0>"
            ]
          },
          "metadata": {},
          "execution_count": 9
        },
        {
          "output_type": "display_data",
          "data": {
            "text/plain": [
              "<Figure size 432x288 with 2 Axes>"
            ],
            "image/png": "[encoded data removed]"
          },
          "metadata": {
            "needs_background": "light"
          }
        }
      ]
    },
    {
      "cell_type": "code",
      "source": [
        "le = LabelEncoder()\n",
        "\n",
        "le.fit(dataFile['Purchase'])\n",
        "dataFile['Purchase'] = le.transform(dataFile['Purchase'])\n",
        "\n",
        "le.fit(dataFile['Gender'])\n",
        "dataFile['Gender'] = le.transform(dataFile['Gender'])\n",
        "\n",
        "print(dataFile.head(10))"
      ],
      "metadata": {
        "colab": {
          "base_uri": "https://localhost:8080/"
        },
        "id": "ywVvcbjYWTq2",
        "outputId": "71308c92-b271-4a50-995d-3eaf8d6a299e"
      },
      "execution_count": null,
      "outputs": [
        {
          "output_type": "stream",
          "name": "stdout",
          "text": [
            "   Purchase  SUS  Duration  Gender  ASR_Error  Intent_Error  Unnamed: 6\n",
            "0         1   84       254       0          3             2         0.0\n",
            "1         0   58       247       0          6             9         0.0\n",
            "2         0   56       125       1          6             8         0.0\n",
            "3         0   55        22       0         11             7         0.0\n",
            "4         1   95       262       0          2             3         0.0\n",
            "5         0   71       113       1          8             9         0.0\n",
            "6         0   76        91       1          6             3         0.0\n",
            "7         0   64        46       0          6            11         0.0\n",
            "8         0   56       132       0          9             9         0.0\n",
            "9         0   96       190       0         11             4         0.0\n"
          ]
        }
      ]
    },
    {
      "cell_type": "code",
      "source": [
        "sns.heatmap(dataFile.corr())"
      ],
      "metadata": {
        "colab": {
          "base_uri": "https://localhost:8080/",
          "height": 337
        },
        "id": "dRymDPiMcdWm",
        "outputId": "8e4fd317-156f-4740-bc51-73afd41ac905"
      },
      "execution_count": null,
      "outputs": [
        {
          "output_type": "execute_result",
          "data": {
            "text/plain": [
              "<matplotlib.axes._subplots.AxesSubplot at 0x7fe23a5196a0>"
            ]
          },
          "metadata": {},
          "execution_count": 67
        },
        {
          "output_type": "display_data",
          "data": {
            "text/plain": [
              "<Figure size 432x288 with 2 Axes>"
            ],
            "image/png": "[encoded data removed]"
          },
          "metadata": {
            "needs_background": "light"
          }
        }
      ]
    },
    {
      "cell_type": "code",
      "source": [
        "import statsmodels.api as sm\n",
        "\n",
        "y = dataFile['SUS'] # dependent variable\n",
        "x = dataFile.drop(columns='SUS') # predictor variables\n",
        "\n",
        "#add constant to predictor variables\n",
        "x = sm.add_constant(x)\n",
        "\n",
        "model = sm.OLS(y, x).fit()\n",
        "print(model.summary());"
      ],
      "metadata": {
        "colab": {
          "base_uri": "https://localhost:8080/"
        },
        "id": "mPWQEqQTNea7",
        "outputId": "70b646fe-7fbb-41f3-fc8e-c3d899227b44"
      },
      "execution_count": null,
      "outputs": [
        {
          "output_type": "stream",
          "name": "stdout",
          "text": [
            "                            OLS Regression Results                            \n",
            "==============================================================================\n",
            "Dep. Variable:                    SUS   R-squared:                       0.593\n",
            "Model:                            OLS   Adj. R-squared:                  0.571\n",
            "Method:                 Least Squares   F-statistic:                     27.39\n",
            "Date:                Tue, 14 Feb 2023   Prob (F-statistic):           5.25e-17\n",
            "Time:                        23:55:33   Log-Likelihood:                -362.39\n",
            "No. Observations:                 100   AIC:                             736.8\n",
            "Df Residuals:                      94   BIC:                             752.4\n",
            "Df Model:                           5                                         \n",
            "Covariance Type:            nonrobust                                         \n",
            "================================================================================\n",
            "                   coef    std err          t      P>|t|      [0.025      0.975]\n",
            "--------------------------------------------------------------------------------\n",
            "const           93.0282      5.541     16.788      0.000      82.026     104.031\n",
            "Purchase         1.3412      3.676      0.365      0.716      -5.958       8.641\n",
            "Duration        -0.0002      0.010     -0.025      0.980      -0.020       0.019\n",
            "Gender           0.8367      1.971      0.425      0.672      -3.076       4.749\n",
            "ASR_Error       -1.4254      0.401     -3.553      0.001      -2.222      -0.629\n",
            "Intent_Error    -2.0092      0.439     -4.572      0.000      -2.882      -1.137\n",
            "Unnamed: 6            0          0        nan        nan           0           0\n",
            "==============================================================================\n",
            "Omnibus:                        6.969   Durbin-Watson:                   2.023\n",
            "Prob(Omnibus):                  0.031   Jarque-Bera (JB):                8.115\n",
            "Skew:                          -0.378   Prob(JB):                       0.0173\n",
            "Kurtosis:                       4.173   Cond. No.                          inf\n",
            "==============================================================================\n",
            "\n",
            "Notes:\n",
            "[1] Standard Errors assume that the covariance matrix of the errors is correctly specified.\n",
            "[2] The smallest eigenvalue is      0. This might indicate that there are\n",
            "strong multicollinearity problems or that the design matrix is singular.\n"
          ]
        },
        {
          "output_type": "stream",
          "name": "stderr",
          "text": [
            "/usr/local/lib/python3.8/dist-packages/statsmodels/tsa/tsatools.py:142: FutureWarning: In a future version of pandas all arguments of concat except for the argument 'objs' will be keyword-only\n",
            "  x = pd.concat(x[::order], 1)\n",
            "/usr/local/lib/python3.8/dist-packages/statsmodels/regression/linear_model.py:1860: RuntimeWarning: divide by zero encountered in double_scalars\n",
            "  return np.sqrt(eigvals[0]/eigvals[-1])\n"
          ]
        }
      ]
    },
    {
      "cell_type": "code",
      "source": [
        "x = dataFile.drop(columns='SUS')\n",
        "y = dataFile['SUS']\n",
        "\n",
        "x_train, x_test, y_train, y_test = train_test_split(x, y)\n",
        "\n",
        "lr = LinearRegression().fit(x_train,y_train)\n",
        "\n",
        "y_train_pred = lr.predict(x_train)\n",
        "y_test_pred = lr.predict(x_test)\n",
        "\n",
        "print(\"The R square score of linear regression model is: \", lr.score(x_test,y_test))"
      ],
      "metadata": {
        "colab": {
          "base_uri": "https://localhost:8080/"
        },
        "id": "azyeJfCxd3et",
        "outputId": "82454ced-1ca9-4f4c-f91f-94ca0a59a4a8"
      },
      "execution_count": null,
      "outputs": [
        {
          "output_type": "stream",
          "name": "stdout",
          "text": [
            "The R square score of linear regression model is:  0.3795018509357976\n"
          ]
        }
      ]
    },
    {
      "cell_type": "code",
      "source": [
        "y = dataFile['Purchase'].to_numpy()\n",
        "y"
      ],
      "metadata": {
        "colab": {
          "base_uri": "https://localhost:8080/"
        },
        "id": "Xnyr7nYqNbqu",
        "outputId": "944a7db0-a211-460a-d024-a044b7d396eb"
      },
      "execution_count": null,
      "outputs": [
        {
          "output_type": "execute_result",
          "data": {
            "text/plain": [
              "array([1, 0, 0, 0, 1, 0, 0, 0, 0, 0, 0, 1, 0, 1, 1, 0, 1, 1, 1, 0, 0, 0,\n",
              "       1, 1, 0, 1, 0, 1, 0, 0, 0, 0, 1, 1, 1, 1, 0, 1, 1, 1, 0, 1, 1, 1,\n",
              "       1, 1, 1, 1, 1, 1, 0, 0, 1, 0, 1, 0, 1, 0, 1, 0, 1, 0, 0, 0, 0, 0,\n",
              "       0, 0, 1, 1, 1, 1, 1, 1, 0, 0, 0, 0, 0, 0, 0, 0, 0, 0, 1, 0, 1, 1,\n",
              "       1, 0, 0, 1, 1, 1, 0, 0, 1, 0, 1, 1])"
            ]
          },
          "metadata": {},
          "execution_count": 22
        }
      ]
    },
    {
      "cell_type": "code",
      "source": [
        "X = dataFile.drop('Purchase', axis = 1).to_numpy()\n",
        "X"
      ],
      "metadata": {
        "colab": {
          "base_uri": "https://localhost:8080/"
        },
        "id": "s50spcjIOEMx",
        "outputId": "2677dc67-00e3-4e33-8ad8-d6d4540e13bb"
      },
      "execution_count": null,
      "outputs": [
        {
          "output_type": "execute_result",
          "data": {
            "text/plain": [
              "array([[ 84., 254.,   0.,   3.,   2.,   0.],\n",
              "       [ 58., 247.,   0.,   6.,   9.,   0.],\n",
              "       [ 56., 125.,   1.,   6.,   8.,   0.],\n",
              "       [ 55.,  22.,   0.,  11.,   7.,   0.],\n",
              "       [ 95., 262.,   0.,   2.,   3.,   0.],\n",
              "       [ 71., 113.,   1.,   8.,   9.,   0.],\n",
              "       [ 76.,  91.,   1.,   6.,   3.,   0.],\n",
              "       [ 64.,  46.,   0.,   6.,  11.,   0.],\n",
              "       [ 56., 132.,   0.,   9.,   9.,   0.],\n",
              "       [ 96., 190.,   0.,  11.,   4.,   0.],\n",
              "       [ 56., 146.,   0.,   9.,   7.,   0.],\n",
              "       [ 80., 226.,   0.,   4.,   4.,   0.],\n",
              "       [ 72.,  54.,   1.,   7.,   9.,   0.],\n",
              "       [ 81., 104.,   0.,   2.,   3.,   0.],\n",
              "       [ 72., 292.,   0.,   7.,   3.,   0.],\n",
              "       [ 66., 126.,   0.,   8.,   9.,   0.],\n",
              "       [ 89., 152.,   1.,   3.,   5.,   0.],\n",
              "       [ 80., 221.,   0.,   3.,   4.,   0.],\n",
              "       [ 66.,  51.,   0.,   9.,   9.,   0.],\n",
              "       [ 74., 230.,   0.,   6.,   8.,   0.],\n",
              "       [ 74.,  72.,   1.,   6.,   8.,   0.],\n",
              "       [ 68., 284.,   0.,   6.,  11.,   0.],\n",
              "       [ 96., 168.,   0.,   2.,   4.,   0.],\n",
              "       [ 98., 194.,   0.,   1.,   3.,   0.],\n",
              "       [ 86., 130.,   1.,  10.,   1.,   0.],\n",
              "       [ 58., 227.,   0.,   9.,   3.,   0.],\n",
              "       [ 75., 161.,   1.,   7.,   8.,   0.],\n",
              "       [ 86., 262.,   1.,   2.,   3.,   0.],\n",
              "       [ 65., 257.,   1.,   9.,  11.,   0.],\n",
              "       [ 80.,  57.,   1.,   8.,   3.,   0.],\n",
              "       [ 68., 138.,   0.,   8.,   9.,   0.],\n",
              "       [ 81.,  33.,   1.,   9.,   4.,   0.],\n",
              "       [ 95., 260.,   0.,   1.,   2.,   0.],\n",
              "       [ 82., 178.,   1.,   3.,   4.,   0.],\n",
              "       [ 95., 153.,   0.,   2.,   4.,   0.],\n",
              "       [ 87., 151.,   0.,   2.,   3.,   0.],\n",
              "       [ 69.,  67.,   0.,   8.,   9.,   0.],\n",
              "       [ 86., 284.,   1.,   2.,   2.,   0.],\n",
              "       [ 98.,  96.,   1.,   3.,   1.,   0.],\n",
              "       [ 98.,  31.,   0.,   1.,   3.,   0.],\n",
              "       [ 50., 100.,   0.,  12.,   9.,   0.],\n",
              "       [ 86., 200.,   0.,   2.,   3.,   0.],\n",
              "       [ 98.,  24.,   1.,   1.,   2.,   0.],\n",
              "       [ 95., 169.,   0.,   1.,   3.,   0.],\n",
              "       [ 80., 110.,   0.,   1.,   3.,   0.],\n",
              "       [ 86., 184.,   1.,   2.,   3.,   0.],\n",
              "       [ 86., 234.,   1.,   2.,   5.,   0.],\n",
              "       [ 82.,  90.,   1.,   5.,   3.,   0.],\n",
              "       [ 87., 202.,   1.,   3.,   3.,   0.],\n",
              "       [ 84., 254.,   0.,   3.,   3.,   0.],\n",
              "       [ 60., 259.,   0.,   9.,   6.,   0.],\n",
              "       [ 92., 193.,   1.,  11.,   5.,   0.],\n",
              "       [ 80., 258.,   0.,   6.,   5.,   0.],\n",
              "       [ 56., 117.,   1.,   6.,   7.,   0.],\n",
              "       [ 81., 297.,   1.,   3.,   4.,   0.],\n",
              "       [ 50., 218.,   1.,  12.,   9.,   0.],\n",
              "       [ 56., 119.,   0.,   0.,   8.,   0.],\n",
              "       [ 70.,  54.,   1.,   8.,   6.,   0.],\n",
              "       [ 80., 143.,   1.,   0.,   4.,   0.],\n",
              "       [ 58., 300.,   1.,   9.,  11.,   0.],\n",
              "       [ 88.,  43.,   0.,   3.,   4.,   0.],\n",
              "       [ 40.,  28.,   0.,   7.,   6.,   0.],\n",
              "       [ 57., 357.,   1.,   9.,   4.,   0.],\n",
              "       [ 70.,  21.,   0.,  13.,   7.,   0.],\n",
              "       [ 65., 100.,   0.,   7.,   9.,   0.],\n",
              "       [ 76., 303.,   1.,   9.,   8.,   0.],\n",
              "       [ 55.,  56.,   1.,   6.,  10.,   0.],\n",
              "       [ 73., 205.,   0.,   5.,  12.,   0.],\n",
              "       [ 87., 104.,   0.,   4.,   1.,   0.],\n",
              "       [ 90., 342.,   0.,   1.,   3.,   0.],\n",
              "       [ 78.,  78.,   0.,   3.,   2.,   0.],\n",
              "       [ 75.,  56.,   0.,   6.,   5.,   0.],\n",
              "       [ 80., 297.,   1.,   2.,   1.,   0.],\n",
              "       [ 90.,  56.,   0.,   5.,   4.,   0.],\n",
              "       [ 85., 365.,   0.,   4.,   3.,   0.],\n",
              "       [ 75., 275.,   0.,  11.,   6.,   0.],\n",
              "       [ 43., 198.,   1.,   9.,   9.,   0.],\n",
              "       [ 57., 224.,   0.,  12.,  12.,   0.],\n",
              "       [ 65., 326.,   0.,   7.,   7.,   0.],\n",
              "       [ 55.,  23.,   0.,  14.,   9.,   0.],\n",
              "       [ 71.,  78.,   1.,   9.,  10.,   0.],\n",
              "       [ 67., 108.,   0.,   6.,  11.,   0.],\n",
              "       [ 43., 326.,   0.,  13.,   7.,   0.],\n",
              "       [ 59.,  61.,   0.,  10.,   8.,   0.],\n",
              "       [ 70.,  48.,   1.,   1.,   5.,   0.],\n",
              "       [ 63.,  90.,   0.,  11.,   4.,   0.],\n",
              "       [ 89.,  87.,   1.,   0.,   1.,   0.],\n",
              "       [ 90.,  65.,   1.,   2.,   2.,   0.],\n",
              "       [ 92.,  22.,   1.,   3.,   0.,   0.],\n",
              "       [ 64.,  10.,   1.,   9.,   9.,   0.],\n",
              "       [ 66.,  45.,   0.,   5.,   8.,   0.],\n",
              "       [ 83.,  69.,   1.,   4.,   0.,   0.],\n",
              "       [ 80.,  57.,   0.,   1.,   1.,   0.],\n",
              "       [ 92., 208.,   1.,   0.,   4.,   0.],\n",
              "       [ 65., 197.,   0.,  11.,  10.,   0.],\n",
              "       [ 57., 358.,   0.,  13.,   7.,   0.],\n",
              "       [ 93.,  71.,   0.,   3.,   0.,   0.],\n",
              "       [ 80.,  34.,   1.,   0.,   9.,   0.],\n",
              "       [ 82.,  49.,   1.,   4.,   1.,   0.],\n",
              "       [ 78., 213.,   0.,   1.,   4.,   0.]])"
            ]
          },
          "metadata": {},
          "execution_count": 23
        }
      ]
    },
    {
      "cell_type": "code",
      "source": [
        "scale = StandardScaler()\n",
        "scaled_X = scale.fit_transform(X)\n",
        "\n",
        "X_train, X_test, y_train, y_test = train_test_split(scaled_X, y, test_size = 0.3)"
      ],
      "metadata": {
        "id": "kwMopGGSOLKN"
      },
      "execution_count": null,
      "outputs": []
    },
    {
      "cell_type": "code",
      "source": [
        "lc = LogisticRegression()\n",
        "svc = SVC(probability=True)\n",
        "nbc = GaussianNB()\n",
        "rfc = RandomForestClassifier()\n",
        "\n",
        "lc.fit(X_train, y_train)\n",
        "svc.fit(X_train, y_train)\n",
        "nbc.fit(X_train, y_train)\n",
        "rfc.fit(X_train, y_train)"
      ],
      "metadata": {
        "colab": {
          "base_uri": "https://localhost:8080/"
        },
        "id": "lE7C412iOZ0V",
        "outputId": "46938a45-ba3a-44d7-d1b2-a245d235c671"
      },
      "execution_count": null,
      "outputs": [
        {
          "output_type": "execute_result",
          "data": {
            "text/plain": [
              "RandomForestClassifier()"
            ]
          },
          "metadata": {},
          "execution_count": 25
        }
      ]
    },
    {
      "cell_type": "code",
      "source": [
        "y_lc_predicted = lc.predict(X_test)\n",
        "y_lc_pred_proba = lc.predict_proba(X_test)\n",
        "\n",
        "y_svc_predicted = svc.predict(X_test)\n",
        "y_svc_pred_proba = svc.predict_proba(X_test)\n",
        "\n",
        "y_nbc_predicted = nbc.predict(X_test)\n",
        "y_nbc_pred_proba = nbc.predict_proba(X_test)\n",
        "\n",
        "y_rfc_predicted = rfc.predict(X_test)\n",
        "y_rfc_pred_proba = rfc.predict_proba(X_test)"
      ],
      "metadata": {
        "id": "s5L5iWHRPK8p"
      },
      "execution_count": null,
      "outputs": []
    },
    {
      "cell_type": "code",
      "source": [
        "print(classification_report(y_test, y_lc_predicted))\n",
        "print(classification_report(y_test, y_svc_predicted))\n",
        "print(classification_report(y_test, y_nbc_predicted))\n",
        "print(classification_report(y_test, y_rfc_predicted))\n",
        "\n",
        "models = ['Logistic Regression', 'Support Vector Machine', 'Naive Bayes Classifier', 'Random Forest Classifier']\n",
        "predictions = [y_lc_predicted, y_svc_predicted, y_nbc_predicted, y_rfc_predicted]\n",
        "pred_probabilities = [y_lc_pred_proba, y_svc_pred_proba, y_nbc_pred_proba, y_rfc_pred_proba]\n",
        "\n",
        "plot = 1\n",
        "\n",
        "for model, prediction, pred_proba in zip(models, predictions, pred_probabilities):\n",
        "    disp = ConfusionMatrixDisplay(confusion_matrix(y_test.ravel(), prediction))\n",
        "    disp.plot(\n",
        "        include_values=True,\n",
        "        cmap='gray',\n",
        "        colorbar=False\n",
        "    )\n",
        "    disp.ax_.set_title(f\"{model} Confusion Matrix\")\n",
        "\n",
        "plt.figure(figsize=(30, 15))\n",
        "plt.suptitle(\"ROC Curves\")\n",
        "plot_index = 1\n",
        "\n",
        "for model, prediction, pred_proba in zip(models, predictions, pred_probabilities):\n",
        "    fpr, tpr, thresholds = roc_curve(y_test, pred_proba[:, 1])\n",
        "    auc_score = auc(fpr, tpr)\n",
        "    plt.subplot(3, 2, plot_index)\n",
        "    plt.plot(fpr, tpr, 'r', label='ROC curve')\n",
        "    # pyplot.figure(figsize=(5, 5))\n",
        "    plt.title(f'Roc Curve - {model} - [AUC - {auc_score}]', fontsize=14)\n",
        "    plt.xlabel('FPR', fontsize=12)\n",
        "    plt.ylabel('TPR', fontsize=12)\n",
        "    plt.legend()\n",
        "    plot_index += 1\n",
        "plt.show()"
      ],
      "metadata": {
        "colab": {
          "base_uri": "https://localhost:8080/",
          "height": 1000
        },
        "id": "2pJP-g4_PWxf",
        "outputId": "590cd920-98db-477a-ffe5-160b8fa1cac1"
      },
      "execution_count": null,
      "outputs": [
        {
          "output_type": "stream",
          "name": "stdout",
          "text": [
            "              precision    recall  f1-score   support\n",
            "\n",
            "           0       0.94      1.00      0.97        17\n",
            "           1       1.00      0.92      0.96        13\n",
            "\n",
            "    accuracy                           0.97        30\n",
            "   macro avg       0.97      0.96      0.97        30\n",
            "weighted avg       0.97      0.97      0.97        30\n",
            "\n",
            "              precision    recall  f1-score   support\n",
            "\n",
            "           0       0.94      1.00      0.97        17\n",
            "           1       1.00      0.92      0.96        13\n",
            "\n",
            "    accuracy                           0.97        30\n",
            "   macro avg       0.97      0.96      0.97        30\n",
            "weighted avg       0.97      0.97      0.97        30\n",
            "\n",
            "              precision    recall  f1-score   support\n",
            "\n",
            "           0       0.94      1.00      0.97        17\n",
            "           1       1.00      0.92      0.96        13\n",
            "\n",
            "    accuracy                           0.97        30\n",
            "   macro avg       0.97      0.96      0.97        30\n",
            "weighted avg       0.97      0.97      0.97        30\n",
            "\n",
            "              precision    recall  f1-score   support\n",
            "\n",
            "           0       0.94      1.00      0.97        17\n",
            "           1       1.00      0.92      0.96        13\n",
            "\n",
            "    accuracy                           0.97        30\n",
            "   macro avg       0.97      0.96      0.97        30\n",
            "weighted avg       0.97      0.97      0.97        30\n",
            "\n"
          ]
        },
        {
          "output_type": "display_data",
          "data": {
            "text/plain": [
              "<Figure size 432x288 with 1 Axes>"
            ],
            "image/png": "[encoded data removed]"
          },
          "metadata": {
            "needs_background": "light"
          }
        },
        {
          "output_type": "display_data",
          "data": {
            "text/plain": [
              "<Figure size 432x288 with 1 Axes>"
            ],
            "image/png": "[encoded data removed]"
          },
          "metadata": {
            "needs_background": "light"
          }
        },
        {
          "output_type": "display_data",
          "data": {
            "text/plain": [
              "<Figure size 432x288 with 1 Axes>"
            ],
            "image/png": "[encoded data removed]"
          },
          "metadata": {
            "needs_background": "light"
          }
        },
        {
          "output_type": "display_data",
          "data": {
            "text/plain": [
              "<Figure size 432x288 with 1 Axes>"
            ],
            "image/png": "[encoded data removed]"
          },
          "metadata": {
            "needs_background": "light"
          }
        },
        {
          "output_type": "display_data",
          "data": {
            "text/plain": [
              "<Figure size 2160x1080 with 4 Axes>"
            ],
            "image/png": "[encoded data removed]"
          },
          "metadata": {
            "needs_background": "light"
          }
        }
      ]
    }
  ]
}